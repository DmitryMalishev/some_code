{
 "cells": [
  {
   "cell_type": "code",
   "execution_count": null,
   "id": "360c1df5",
   "metadata": {
    "execution": {
     "iopub.execute_input": "2023-01-29T11:40:49.955779Z",
     "iopub.status.busy": "2023-01-29T11:40:49.955235Z",
     "iopub.status.idle": "2023-01-29T11:42:04.903139Z",
     "shell.execute_reply": "2023-01-29T11:42:04.901580Z"
    },
    "papermill": {
     "duration": 74.956443,
     "end_time": "2023-01-29T11:42:04.905579",
     "exception": false,
     "start_time": "2023-01-29T11:40:49.949136",
     "status": "completed"
    },
    "tags": []
   },
   "outputs": [],
   "source": [
    "!pip install torch==1.12.1"
   ]
  },
  {
   "cell_type": "code",
   "execution_count": null,
   "id": "d29fb8ac",
   "metadata": {
    "execution": {
     "iopub.execute_input": "2023-01-29T11:42:04.969080Z",
     "iopub.status.busy": "2023-01-29T11:42:04.968760Z",
     "iopub.status.idle": "2023-01-29T11:42:15.377215Z",
     "shell.execute_reply": "2023-01-29T11:42:15.375125Z"
    },
    "papermill": {
     "duration": 10.442082,
     "end_time": "2023-01-29T11:42:15.379669",
     "exception": false,
     "start_time": "2023-01-29T11:42:04.937587",
     "status": "completed"
    },
    "tags": []
   },
   "outputs": [],
   "source": [
    "!pip install timm==0.6.12"
   ]
  },
  {
   "cell_type": "code",
   "execution_count": null,
   "id": "f125a6c7",
   "metadata": {
    "execution": {
     "iopub.execute_input": "2023-01-29T11:42:15.513445Z",
     "iopub.status.busy": "2023-01-29T11:42:15.512608Z",
     "iopub.status.idle": "2023-01-29T11:42:17.648765Z",
     "shell.execute_reply": "2023-01-29T11:42:17.647799Z"
    },
    "papermill": {
     "duration": 2.169162,
     "end_time": "2023-01-29T11:42:17.651129",
     "exception": false,
     "start_time": "2023-01-29T11:42:15.481967",
     "status": "completed"
    },
    "tags": []
   },
   "outputs": [],
   "source": [
    "import os\n",
    "import sys\n",
    "import numpy as np\n",
    "import pandas as pd\n",
    "\n",
    "from timm import create_model\n",
    "import fastai\n",
    "from fastai.vision.all import *\n",
    "\n",
    "set_seed(999, reproducible=True)"
   ]
  },
  {
   "cell_type": "code",
   "execution_count": null,
   "id": "17664b5b",
   "metadata": {},
   "outputs": [],
   "source": [
    "dataset_path_train = '../input/codenrockart/'\n",
    "\n",
    "dataset_path_test = '../input/codenrockart/test/test'"
   ]
  },
  {
   "cell_type": "code",
   "execution_count": null,
   "id": "09e5aa08",
   "metadata": {},
   "outputs": [],
   "source": [
    "# model names in timm, corresponding image input sizes and weights in the final model blend\n",
    "\n",
    "TIMM_MODELS = (('swinv2_large_window12to16_192to256_22kft1k', 384, 0.189), ('swin_large_patch4_window12_384', 384, 0.168), ('vit_large_patch14_clip_336', 336, 0.063), \n",
    "               ('beit_large_patch16_384', 384, 0.261), ('beitv2_large_patch16_224', 224, 0.087), ('beit_large_patch16_224.in22k_ft_in22k', 224, 0.232))"
   ]
  },
  {
   "cell_type": "code",
   "execution_count": null,
   "id": "69e7ce0c",
   "metadata": {
    "execution": {
     "iopub.execute_input": "2023-01-29T11:42:19.087139Z",
     "iopub.status.busy": "2023-01-29T11:42:19.085722Z",
     "iopub.status.idle": "2023-01-29T11:42:19.265284Z",
     "shell.execute_reply": "2023-01-29T11:42:19.264252Z"
    },
    "papermill": {
     "duration": 0.212496,
     "end_time": "2023-01-29T11:42:19.267593",
     "exception": false,
     "start_time": "2023-01-29T11:42:19.055097",
     "status": "completed"
    },
    "tags": []
   },
   "outputs": [],
   "source": [
    "train_df = pd.read_csv(dataset_path_train/'train.csv', sep='\\t')\n",
    "train_df['path'] = train_df['image_name'].map(lambda x: str(dataset_path_train/'train_data/train'/x))\n",
    "train_df = train_df.drop(columns=['image_name'])\n",
    "train_df = train_df.sample(frac=1).reset_index(drop=True)"
   ]
  },
  {
   "cell_type": "code",
   "execution_count": null,
   "id": "868d92a0",
   "metadata": {},
   "outputs": [],
   "source": [
    "file_list = [f for f in os.listdir(dataset_path_test)]\n",
    "\n",
    "test_df = pd.DataFrame(file_list, columns=['image_name'])\n",
    "test_df['path'] = test_df['image_name'].map(lambda x:str(dataset_path_test+'/'+x))\n",
    "test_df['label_id'] = [0]*len(test_df)"
   ]
  },
  {
   "cell_type": "code",
   "execution_count": null,
   "id": "0eb1769f",
   "metadata": {
    "execution": {
     "iopub.execute_input": "2023-01-29T11:42:24.673907Z",
     "iopub.status.busy": "2023-01-29T11:42:24.673591Z",
     "iopub.status.idle": "2023-01-29T11:43:41.946343Z",
     "shell.execute_reply": "2023-01-29T11:43:41.945299Z"
    },
    "papermill": {
     "duration": 77.31235,
     "end_time": "2023-01-29T11:43:41.949091",
     "exception": false,
     "start_time": "2023-01-29T11:42:24.636741",
     "status": "completed"
    },
    "tags": []
   },
   "outputs": [],
   "source": [
    "def train_and_predict(model):\n",
    "\n",
    "    model_name = model[0]\n",
    "    img_size = model[1]\n",
    "\n",
    "    dls = ImageDataLoaders.from_df(train_df,\n",
    "                               valid_pct=0.0,\n",
    "                               seed=999,\n",
    "                               fn_col='path',\n",
    "                               label_col='label_id',\n",
    "                               y_block=CategoryBlock,\n",
    "                               bs=8,\n",
    "                               num_workers=2,\n",
    "                               item_tfms=Resize(img_size),\n",
    "                               batch_tfms=aug_transforms(size=img_size))\n",
    "\n",
    "    model = create_model(model_name, pretrained=True, num_classes=dls.c)\n",
    "\n",
    "    learn = Learner(dls, model, loss_func=CrossEntropyLossFlat(), metrics=accuracy)\n",
    "\n",
    "    learn.fit_one_cycle(3, 2e-5)\n",
    "\n",
    "    test_dl = dls.test_dl(test_df)\n",
    "\n",
    "    prediction, _ = learn.tta(dl=test_dl, n=7)\n",
    "\n",
    "    return prediction"
   ]
  },
  {
   "cell_type": "code",
   "execution_count": null,
   "id": "40ef10c8",
   "metadata": {
    "execution": {
     "iopub.execute_input": "2023-01-29T11:43:42.027756Z",
     "iopub.status.busy": "2023-01-29T11:43:42.026704Z",
     "iopub.status.idle": "2023-01-29T11:43:42.033361Z",
     "shell.execute_reply": "2023-01-29T11:43:42.032424Z"
    },
    "papermill": {
     "duration": 0.047185,
     "end_time": "2023-01-29T11:43:42.035500",
     "exception": false,
     "start_time": "2023-01-29T11:43:41.988315",
     "status": "completed"
    },
    "tags": []
   },
   "outputs": [],
   "source": [
    "prediction_blend = []\n",
    "\n",
    "for model in TIMM_MODELS:\n",
    "\n",
    "    prediction = train_and_predict(model)\n",
    "\n",
    "    model_weight = model[2]\n",
    "\n",
    "    prediction_blend.append(model_weight*prediction)"
   ]
  },
  {
   "cell_type": "code",
   "execution_count": null,
   "id": "154899d9",
   "metadata": {
    "execution": {
     "iopub.execute_input": "2023-01-29T11:43:42.111580Z",
     "iopub.status.busy": "2023-01-29T11:43:42.110763Z",
     "iopub.status.idle": "2023-01-29T12:47:49.355704Z",
     "shell.execute_reply": "2023-01-29T12:47:49.354576Z"
    },
    "papermill": {
     "duration": 3847.28538,
     "end_time": "2023-01-29T12:47:49.358108",
     "exception": false,
     "start_time": "2023-01-29T11:43:42.072728",
     "status": "completed"
    },
    "tags": []
   },
   "outputs": [],
   "source": [
    "prediction_final = sum(prediction_blend)\n",
    "\n",
    "test_df['label_id'] = np.argmax(prediction_final, axis=1)\n",
    "\n",
    "test_df[['image_name', 'label_id']].to_csv('submission.csv', index=False, sep='\\t')"
   ]
  }
 ],
 "metadata": {
  "kernelspec": {
   "display_name": "Python 3",
   "language": "python",
   "name": "python3"
  },
  "language_info": {
   "codemirror_mode": {
    "name": "ipython",
    "version": 3
   },
   "file_extension": ".py",
   "mimetype": "text/x-python",
   "name": "python",
   "nbconvert_exporter": "python",
   "pygments_lexer": "ipython3",
   "version": "3.7.12"
  },
  "papermill": {
   "default_parameters": {},
   "duration": 5758.278623,
   "end_time": "2023-01-29T13:16:40.596002",
   "environment_variables": {},
   "exception": null,
   "input_path": "__notebook__.ipynb",
   "output_path": "__notebook__.ipynb",
   "parameters": {},
   "start_time": "2023-01-29T11:40:42.317379",
   "version": "2.3.4"
  }
 },
 "nbformat": 4,
 "nbformat_minor": 5
}
